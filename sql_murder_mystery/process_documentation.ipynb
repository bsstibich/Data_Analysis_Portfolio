{
 "cells": [
  {
   "attachments": {},
   "cell_type": "markdown",
   "metadata": {},
   "source": [
    "# SQLite Murder Mystery \n",
    "Brandon Stibich\n",
    "\n",
    "Intro: \n",
    "\n",
    "The database for this exercise was found on Kaggle, however it is originally sourced from here https://mystery.knightlab.com. \n",
    "\n",
    "The exercise presents a database schema full of information, and a tiny lead in which to solve a murder. I am given the starting point of locating the crime scene report for a *murder* that occurred on *Jan.15, 2018* in *SQL City*. \n",
    "\n",
    "These next query is suggested as the starting point from the website.\n",
    "\n",
    "The queries are executed in SQLite Studio, this document is just to save the queries as well as the thought process behind them for documentation purposes.\n",
    "\n",
    " "
   ]
  },
  {
   "cell_type": "code",
   "execution_count": null,
   "metadata": {
    "vscode": {
     "languageId": "sql"
    }
   },
   "outputs": [],
   "source": [
    "SELECT name \n",
    "  FROM sqlite_master\n",
    " where type = 'table'"
   ]
  },
  {
   "attachments": {},
   "cell_type": "markdown",
   "metadata": {},
   "source": [
    "RESULTS\n",
    "\n",
    "crime_scene_report\n",
    "\n",
    "drivers_license\n",
    "\n",
    "person\n",
    "\n",
    "facebook_event_checkin\n",
    "\n",
    "interview\n",
    "\n",
    "get_fit_now_member\n",
    "\n",
    "get_fit_now_check_in\n",
    "\n",
    "income\n",
    "\n",
    "solution\n"
   ]
  },
  {
   "attachments": {},
   "cell_type": "markdown",
   "metadata": {},
   "source": [
    "I see the table 'crime_scene_report' and am certainly drawn to start there to find the report I need.\n",
    "\n",
    "However I'd also like to note that the check in tables are interesting and I'm curious to find how those play into this puzzle."
   ]
  },
  {
   "cell_type": "code",
   "execution_count": null,
   "metadata": {
    "vscode": {
     "languageId": "sql"
    }
   },
   "outputs": [],
   "source": [
    "SELECT description\n",
    "  FROM crime_scene_report\n",
    " WHERE date == 20180115 AND \n",
    "       type == \"murder\" AND \n",
    "       city == \"SQL City\";"
   ]
  },
  {
   "attachments": {},
   "cell_type": "markdown",
   "metadata": {},
   "source": [
    "RESULTS\n",
    "\n",
    "\"Security footage shows that there were 2 witnesses. The first witness lives at the last house on \"Northwestern Dr\". The second witness, named Annabel, lives somewhere on \"Franklin Ave\".\""
   ]
  },
  {
   "attachments": {},
   "cell_type": "markdown",
   "metadata": {},
   "source": [
    "There was only 1 crime that matches the description given. It seems we have 2 witnesses that we can get info from. I think I'll start by trying to find their names via the person table, as it has a column for address street name. Then I will see if we have an interview with the witnesses."
   ]
  }
 ],
 "metadata": {
  "language_info": {
   "name": "python"
  },
  "orig_nbformat": 4
 },
 "nbformat": 4,
 "nbformat_minor": 2
}
