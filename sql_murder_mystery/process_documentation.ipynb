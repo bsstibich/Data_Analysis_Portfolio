{
 "cells": [
  {
   "attachments": {},
   "cell_type": "markdown",
   "metadata": {},
   "source": [
    "# SQLite Murder Mystery \n",
    "Brandon Stibich\n",
    "\n",
    "Intro: \n",
    "\n",
    "The database for this exercise was found on Kaggle, however it is originally sourced from here https://mystery.knightlab.com. \n",
    "\n",
    "The exercise presents a database schema full of information, and a tiny lead in which to solve a murder. I am given the starting point of locating the crime scene report for a *murder* that occurred on *Jan.15, 2018* in *SQL City*. \n",
    "\n",
    "These next query is suggested as the starting point from the website.\n",
    "\n",
    "The queries are executed in SQLite Studio, this document is just to save the queries as well as the thought process behind them for documentation purposes.\n",
    "\n",
    " "
   ]
  },
  {
   "cell_type": "code",
   "execution_count": null,
   "metadata": {
    "vscode": {
     "languageId": "sql"
    }
   },
   "outputs": [],
   "source": [
    "SELECT name \n",
    "  FROM sqlite_master\n",
    " where type = 'table'"
   ]
  },
  {
   "attachments": {},
   "cell_type": "markdown",
   "metadata": {},
   "source": [
    "RESULTS\n",
    "\n",
    "crime_scene_report\n",
    "\n",
    "drivers_license\n",
    "\n",
    "person\n",
    "\n",
    "facebook_event_checkin\n",
    "\n",
    "interview\n",
    "\n",
    "get_fit_now_member\n",
    "\n",
    "get_fit_now_check_in\n",
    "\n",
    "income\n",
    "\n",
    "solution\n",
    "\n",
    "===================================================================================================================\n",
    "\n",
    "I see the table 'crime_scene_report' and am certainly drawn to start there to find the report I need.\n",
    "\n",
    "However I'd also like to note that the check in tables are interesting and I'm curious to find how those play into this puzzle."
   ]
  },
  {
   "cell_type": "code",
   "execution_count": null,
   "metadata": {
    "vscode": {
     "languageId": "sql"
    }
   },
   "outputs": [],
   "source": [
    "SELECT description\n",
    "  FROM crime_scene_report\n",
    " WHERE date == 20180115 AND \n",
    "       type == \"murder\" AND \n",
    "       city == \"SQL City\";"
   ]
  },
  {
   "attachments": {},
   "cell_type": "markdown",
   "metadata": {},
   "source": [
    "RESULTS\n",
    "\n",
    "\"Security footage shows that there were 2 witnesses. The first witness lives at the last house on \"Northwestern Dr\". The second witness, named Annabel, lives somewhere on \"Franklin Ave\".\"\n",
    "\n",
    "===================================================================================================================\n",
    "\n",
    "There was only 1 crime that matches the description given. It seems we have 2 witnesses that we can get info from. I think I'll start by trying to find their names via the person table, as it has a column for address street name. Then I will see if we have an interview with the witnesses."
   ]
  },
  {
   "cell_type": "code",
   "execution_count": null,
   "metadata": {
    "vscode": {
     "languageId": "sql"
    }
   },
   "outputs": [],
   "source": [
    "SELECT *\n",
    "  FROM person\n",
    " WHERE address_street_name == \"Franklin Ave\" AND \n",
    "       name LIKE \"Annabel%\";\n"
   ]
  },
  {
   "attachments": {},
   "cell_type": "markdown",
   "metadata": {},
   "source": [
    "RESULTS\n",
    "\n",
    "16371\tAnnabel Miller\t490173\t103\tFranklin Ave\t318771143\n",
    "\n",
    "===================================================================================================================\n",
    "\n",
    "\n",
    "\n",
    "1 down lets find the other witness"
   ]
  },
  {
   "cell_type": "code",
   "execution_count": null,
   "metadata": {
    "vscode": {
     "languageId": "sql"
    }
   },
   "outputs": [],
   "source": [
    "SELECT *\n",
    "  FROM person\n",
    " WHERE address_street_name == \"Northwestern Dr\"\n",
    " ORDER BY address_number DESC;\n"
   ]
  },
  {
   "attachments": {},
   "cell_type": "markdown",
   "metadata": {},
   "source": [
    "RESULTS\n",
    "\n",
    "*14887\tMorty Schapiro\t118009\t4919\tNorthwestern Dr\t111564949*\n",
    "\n",
    "17729\tLasonya Wildey\t439686\t3824\tNorthwestern Dr\t917817122\n",
    "\n",
    "....\n",
    "\n",
    "===================================================================================================================\n",
    "\n",
    "\n",
    "Looks like Mr. Morty Schapiro is our witness here, he's the last house on the street.\n",
    "\n",
    "Lets see if we have interviews with these witnesses"
   ]
  },
  {
   "cell_type": "code",
   "execution_count": null,
   "metadata": {
    "vscode": {
     "languageId": "sql"
    }
   },
   "outputs": [],
   "source": [
    "--Schapiro\n",
    "SELECT *\n",
    "  FROM interview\n",
    " WHERE person_id == 14887;\n",
    "\n",
    "--Miller\n",
    "SELECT *\n",
    "  FROM interview\n",
    " WHERE person_id == 16371;\n"
   ]
  },
  {
   "attachments": {},
   "cell_type": "markdown",
   "metadata": {},
   "source": [
    "RESULTS\n",
    "\n",
    "SCHAPIRO:\n",
    "\"I heard a gunshot and then saw a man run out. He had a \"Get Fit Now Gym\" bag. The membership number on the bag started with \"48Z\". Only gold members have those bags. The man got into a car with a plate that included \"H42W\".\"\n",
    "\n",
    "MILLER:\n",
    "\"I saw the murder happen, and I recognized the killer from my gym when I was working out last week on January the 9th.\"\n",
    "\n",
    "===================================================================================================================\n",
    "\n",
    "\n",
    "Now things are getting juicy! A few key notes from these interviews: The suspect is a member of \"Get Fit Now\" with at least a gold member status and a membership number including \"48Z\". I can get all that info from the get_fit_now_member table. I can then cross reference that with the get_fit_now_check_in table to check if the person was also there on jan 9th. After I find a suspect I can check the drivers_lisence table to confirm the car. \n",
    "\n",
    "Lets see if things go so simply.\n"
   ]
  },
  {
   "cell_type": "code",
   "execution_count": null,
   "metadata": {
    "vscode": {
     "languageId": "sql"
    }
   },
   "outputs": [],
   "source": [
    "SELECT *\n",
    "  FROM get_fit_now_member\n",
    " WHERE membership_status == \"gold\" AND \n",
    "       id LIKE \"%48Z%\";"
   ]
  },
  {
   "attachments": {},
   "cell_type": "markdown",
   "metadata": {},
   "source": [
    "RESULTS\n",
    "\n",
    "48Z7A\t28819\tJoe Germuska\t20160305\tgold\n",
    "\n",
    "48Z55\t67318\tJeremy Bowers\t20160101\tgold\n",
    "\n",
    "===================================================================================================================\n",
    "\n",
    "Looks like we got more than one matching member, lets try and narrow it down based on who was at the gym on the 9th."
   ]
  },
  {
   "cell_type": "code",
   "execution_count": null,
   "metadata": {
    "vscode": {
     "languageId": "sql"
    }
   },
   "outputs": [],
   "source": [
    "SELECT *\n",
    "  FROM get_fit_now_check_in\n",
    " WHERE check_in_date == 20180109 AND \n",
    "       membership_id LIKE \"%48Z%\";\n"
   ]
  },
  {
   "attachments": {},
   "cell_type": "markdown",
   "metadata": {},
   "source": [
    "RESULTS\n",
    "\n",
    "48Z7A\t20180109\t1600\t1730\n",
    "\n",
    "48Z55\t20180109\t1530\t1700\n",
    "\n",
    "===================================================================================================================\n",
    "\n",
    "Darn they were both there on the 9th. Hopefully the plate can get us the info we need."
   ]
  },
  {
   "cell_type": "code",
   "execution_count": null,
   "metadata": {
    "vscode": {
     "languageId": "sql"
    }
   },
   "outputs": [],
   "source": [
    "SELECT *\n",
    "  FROM drivers_license\n",
    " WHERE plate_number LIKE \"%H42W%\";\n"
   ]
  },
  {
   "attachments": {},
   "cell_type": "markdown",
   "metadata": {},
   "source": [
    "RESULTS\n",
    "\n",
    "183779\t21\t65\tblue\tblonde\tfemale\tH42W0X\tToyota\tPrius\n",
    "\n",
    "423327\t30\t70\tbrown\tbrown\tmale\t0H42W2\tChevrolet\tSpark LS\n",
    "\n",
    "664760\t21\t71\tblack\tblack\tmale\t4H42WR\tNissan\tAltima\n",
    "\n",
    "===================================================================================================================\n",
    "\n",
    "Theres a few with \"H42W\" in their plates, lets check with the person table to see if either of our gym members are owners of one of these cars."
   ]
  },
  {
   "cell_type": "code",
   "execution_count": null,
   "metadata": {
    "vscode": {
     "languageId": "sql"
    }
   },
   "outputs": [],
   "source": [
    "SELECT *\n",
    "  FROM person\n",
    " WHERE license_id == 183779 OR \n",
    "       license_id == 423327 OR \n",
    "       license_id == 664760;\n"
   ]
  },
  {
   "attachments": {},
   "cell_type": "markdown",
   "metadata": {},
   "source": [
    "RESULTS\n",
    "\n",
    "51739\tTushar Chandra\t664760\t312\tPhi St\t137882671\n",
    "\n",
    "67318\tJeremy Bowers\t423327\t530\tWashington Pl, Apt 3A\t871539279\n",
    "\n",
    "78193\tMaxine Whitely\t183779\t110\tFisk Rd\t137882671\n",
    "\n",
    "===================================================================================================================\n",
    "\n",
    "I believe we have our guy with this. Mr. Jeremy Bowers is a gold member of Get Fit Now Gym, with a membership id containing '48Z'. He was at said gym on both the date of the crime Jan.18th and Jan.9th. And he owns a Chevy Spark which has the 'H4W' plate that was seen by Mr. Schapiro.\n",
    "\n",
    "Lets see if the solution is correct!"
   ]
  },
  {
   "cell_type": "code",
   "execution_count": null,
   "metadata": {
    "vscode": {
     "languageId": "sql"
    }
   },
   "outputs": [],
   "source": [
    "--this query template was given on the website\n",
    "\n",
    "INSERT INTO solution VALUES (1, 'Jeremy Bowers');\n",
    "        \n",
    "        SELECT value FROM solution;"
   ]
  },
  {
   "attachments": {},
   "cell_type": "markdown",
   "metadata": {},
   "source": [
    "RESULTS\n",
    "\n",
    "\"Congrats, you found the murderer! But wait, there's more... If you think you're up for a challenge, try querying the interview transcript of the murderer to find the real villain behind this crime. If you feel especially confident in your SQL skills, try to complete this final step with no more than 2 queries. Use this same INSERT statement with your new suspect to check your answer.\"\n",
    "\n",
    "==================================================================================================================="
   ]
  },
  {
   "attachments": {},
   "cell_type": "markdown",
   "metadata": {},
   "source": [
    "I did it!! That was a lot of fun and I am absolutely going for this challenge they talk about!"
   ]
  },
  {
   "cell_type": "code",
   "execution_count": null,
   "metadata": {
    "vscode": {
     "languageId": "sql"
    }
   },
   "outputs": [],
   "source": [
    "SELECT *\n",
    "  FROM interview\n",
    " WHERE person_id == 67318;\n"
   ]
  },
  {
   "attachments": {},
   "cell_type": "markdown",
   "metadata": {},
   "source": [
    "RESULTS\n",
    "\n",
    "67318\t\"I was hired by a woman with a lot of money. I don't know her name but I know she's around 5'5\"\" (65\"\") or 5'7\"\" (67\"\"). She has red hair and she drives a Tesla Model S. I know that she attended the SQL Symphony Concert 3 times in December 2017.\n",
    "\"\n",
    "\n",
    "===================================================================================================================\n",
    "\n",
    "I don't suspect this should be tough to find with all these details, lets start with the drivers_license table since it has car, height, and hair info.\n",
    "\n"
   ]
  },
  {
   "cell_type": "code",
   "execution_count": null,
   "metadata": {
    "vscode": {
     "languageId": "sql"
    }
   },
   "outputs": [],
   "source": [
    "SELECT *\n",
    "  FROM drivers_license\n",
    " WHERE hair_color == \"red\" AND \n",
    "       (64 < height < 68) AND \n",
    "       car_make == \"Tesla\" AND \n",
    "       car_model == \"Model S\";\n"
   ]
  },
  {
   "attachments": {},
   "cell_type": "markdown",
   "metadata": {},
   "source": [
    "RESULTS\n",
    "\n",
    "202298\t68\t66\tgreen\tred\tfemale\t500123\tTesla\tModel S\n",
    "\n",
    "291182\t65\t66\tblue\tred\tfemale\t08CM64\tTesla\tModel S\n",
    "\n",
    "736081\t79\t69\tbrown\tred\tmale\tGCAQ6Y\tTesla\tModel S\n",
    "\n",
    "918773\t48\t65\tblack\tred\tfemale\t917UU3\tTesla\tModel S\n",
    "\n",
    "===================================================================================================================\n",
    "\n",
    "Alright we got a few hits on this one, lets see who among them attended that Symphony 3 times in 2017 though.\n",
    "\n",
    "First we have to transfer the license_id to a person_id"
   ]
  },
  {
   "cell_type": "code",
   "execution_count": null,
   "metadata": {
    "vscode": {
     "languageId": "sql"
    }
   },
   "outputs": [],
   "source": [
    "SELECT *\n",
    "  FROM person\n",
    " WHERE license_id == 202298 OR \n",
    "       license_id == 291182 OR \n",
    "       license_id == 736081 OR \n",
    "       license_id == 918773;\n"
   ]
  },
  {
   "attachments": {},
   "cell_type": "markdown",
   "metadata": {},
   "source": [
    "RESULTS\n",
    "\n",
    "57410\tCletus Zoeller\t736081\t2987\tKingham Way\t924648898\n",
    "\n",
    "78881\tRed Korb\t918773\t107\tCamerata Dr\t961388910\n",
    "\n",
    "90700\tRegina George\t291182\t332\tMaple Ave\t337169072\n",
    "\n",
    "99716\tMiranda Priestly\t202298\t1883\tGolden Ave\t987756388\n",
    "\n",
    "===================================================================================================================\n",
    "\n",
    "Quickly plug those person_ids into the facebook check ins.\n"
   ]
  },
  {
   "cell_type": "code",
   "execution_count": null,
   "metadata": {
    "vscode": {
     "languageId": "sql"
    }
   },
   "outputs": [],
   "source": [
    "SELECT *\n",
    "  FROM facebook_event_checkin\n",
    " WHERE event_name == \"SQL Symphony Concert\" AND \n",
    "       date LIKE \"201712%\" AND \n",
    "       person_id == 57410 OR \n",
    "       person_id == 78881 OR \n",
    "       person_id == 90700 OR \n",
    "       person_id == 99716;\n"
   ]
  },
  {
   "attachments": {},
   "cell_type": "markdown",
   "metadata": {},
   "source": [
    "RESULTS\n",
    "\n",
    "99716\t1143\tSQL Symphony Concert\t20171206\n",
    "\n",
    "99716\t1143\tSQL Symphony Concert\t20171212\n",
    "\n",
    "99716\t1143\tSQL Symphony Concert\t20171229\n",
    "\n",
    "\n",
    "===================================================================================================================\n",
    "\n",
    "And it looks like person 99716 or Ms. Miranda Priestly is our woman. Lets confirm with a solution check."
   ]
  },
  {
   "cell_type": "code",
   "execution_count": null,
   "metadata": {
    "vscode": {
     "languageId": "sql"
    }
   },
   "outputs": [],
   "source": [
    "INSERT INTO solution VALUES (1, 'Miranda Priestly');\n",
    "        \n",
    "        SELECT value FROM solution;"
   ]
  },
  {
   "attachments": {},
   "cell_type": "markdown",
   "metadata": {},
   "source": [
    "RESULTS\n",
    "\n",
    "\"Congrats, you found the brains behind the murder! Everyone in SQL City hails you as the greatest SQL detective of all time. Time to break out the champagne!\"\n",
    "\n",
    "===================================================================================================================\n",
    "\n",
    "Yeehaw! Man that was a lot of fun!"
   ]
  }
 ],
 "metadata": {
  "language_info": {
   "name": "python"
  },
  "orig_nbformat": 4
 },
 "nbformat": 4,
 "nbformat_minor": 2
}
